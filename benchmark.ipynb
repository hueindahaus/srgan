{
 "cells": [
  {
   "cell_type": "code",
   "execution_count": 13,
   "id": "2ff08eca",
   "metadata": {},
   "outputs": [
    {
     "name": "stdout",
     "output_type": "stream",
     "text": [
      "-------------------------------------------\n",
      "v3 bee (psnr/ssim): (25.79630022128763/0.7628402728175012)\n",
      "v2 bee (psnr/ssim): (26.51451611097501/0.7740766284738215)\n",
      "v1 bee (psnr/ssim): (20.846198301695345/0.6125141250650461)\n",
      "-------------------------------------------\n",
      "v3 eagle (psnr/ssim): (21.778755088852254/0.6314266655095482)\n",
      "v2 eagle (psnr/ssim): (21.939137632015445/0.634859931181721)\n",
      "v1 eagle (psnr/ssim): (20.193786631791674/0.5890064738755817)\n",
      "-------------------------------------------\n",
      "v3 building (psnr/ssim): (18.80574055602675/0.7188858761765663)\n",
      "v2 building (psnr/ssim): (19.167104978904213/0.7258303152667693)\n",
      "v1 building (psnr/ssim): (19.961190180422964/0.746188233542287)\n",
      "-------------------------------------------\n",
      "v3 dog (psnr/ssim): (25.081358886410342/0.8453097377291763)\n",
      "v2 dog (psnr/ssim): (25.02710056723059/0.8407597863795452)\n",
      "v1 dog (psnr/ssim): (22.700156625709837/0.7157173174052484)\n",
      "-------------------------------------------\n",
      "v3 spiderverse (psnr/ssim): (29.02262200353144/0.8540138031350851)\n",
      "v2 spiderverse (psnr/ssim): (29.577707303335536/0.8643956179369149)\n",
      "v1 spiderverse (psnr/ssim): (24.36256184735626/0.8015160847613004)\n",
      "-------------------------------------------\n",
      "v3 pikachu (psnr/ssim): (30.53943215427121/0.9350735971376155)\n",
      "v2 pikachu (psnr/ssim): (29.126216613258983/0.9375919612723221)\n",
      "v1 pikachu (psnr/ssim): (28.086485707275706/0.8679758364838092)\n"
     ]
    }
   ],
   "source": [
    "import cv2\n",
    "from skimage.metrics import structural_similarity\n",
    "\n",
    "# Bad designed function to becnhmark images by psnr and ssim\n",
    "def benchmark(img_name):\n",
    "    print('-------------------------------------------')\n",
    "    img1 = cv2.imread('./saved-models/inception-residual-block/' + img_name + '-sr.jpg')\n",
    "    img2 = cv2.imread('./saved-models/inception-residual-block/' + img_name + '-hr.jpg')\n",
    "    psnr = cv2.PSNR(img1, img2)\n",
    "    ssim = structural_similarity(img1,img2, multichannel=True)\n",
    "    print('v3 ' + img_name + ' (psnr/ssim): ('  + str(psnr) + '/' + str(ssim) +')')\n",
    "\n",
    "\n",
    "    img1 = cv2.imread('./saved-models/esrgan-influenced/' + img_name + '-sr.jpg')\n",
    "    img2 = cv2.imread('./saved-models/esrgan-influenced/' + img_name + '-hr.jpg')\n",
    "    psnr = cv2.PSNR(img1, img2)\n",
    "    ssim = structural_similarity(img1,img2, multichannel=True)\n",
    "    print('v2 ' + img_name + ' (psnr/ssim): ('  + str(psnr) + '/' + str(ssim) +')')\n",
    "\n",
    "    img1 = cv2.imread('./saved-models/srgan-vanilla-original/' + img_name + '-sr.jpg')\n",
    "    img2 = cv2.imread('./saved-models/srgan-vanilla-original/' + img_name + '-hr.jpg')\n",
    "    psnr = cv2.PSNR(img1, img2)\n",
    "    ssim = structural_similarity(img1,img2, multichannel=True)\n",
    "    print('v1 ' + img_name + ' (psnr/ssim): ('  + str(psnr) + '/' + str(ssim) +')')\n",
    "benchmark('bee')\n",
    "benchmark('eagle')\n",
    "benchmark('building')\n",
    "benchmark('dog')\n",
    "benchmark('spiderverse')\n",
    "benchmark('pikachu')"
   ]
  },
  {
   "cell_type": "code",
   "execution_count": null,
   "id": "852afced",
   "metadata": {},
   "outputs": [],
   "source": []
  }
 ],
 "metadata": {
  "kernelspec": {
   "display_name": "Python 3 (ipykernel)",
   "language": "python",
   "name": "python3"
  },
  "language_info": {
   "codemirror_mode": {
    "name": "ipython",
    "version": 3
   },
   "file_extension": ".py",
   "mimetype": "text/x-python",
   "name": "python",
   "nbconvert_exporter": "python",
   "pygments_lexer": "ipython3",
   "version": "3.7.11"
  }
 },
 "nbformat": 4,
 "nbformat_minor": 5
}
